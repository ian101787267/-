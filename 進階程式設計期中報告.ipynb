{
  "nbformat": 4,
  "nbformat_minor": 0,
  "metadata": {
    "colab": {
      "provenance": []
    },
    "kernelspec": {
      "name": "python3",
      "display_name": "Python 3"
    },
    "language_info": {
      "name": "python"
    }
  },
  "cells": [
    {
      "cell_type": "code",
      "execution_count": 1,
      "metadata": {
        "colab": {
          "base_uri": "https://localhost:8080/"
        },
        "id": "wzRkaLceEj3S",
        "outputId": "c830f451-c13c-41d2-aa35-59fbd2c3ed5d"
      },
      "outputs": [
        {
          "output_type": "stream",
          "name": "stdout",
          "text": [
            "Requirement already satisfied: beautifulsoup4 in /usr/local/lib/python3.11/dist-packages (4.13.3)\n",
            "Requirement already satisfied: requests in /usr/local/lib/python3.11/dist-packages (2.32.3)\n",
            "Requirement already satisfied: soupsieve>1.2 in /usr/local/lib/python3.11/dist-packages (from beautifulsoup4) (2.6)\n",
            "Requirement already satisfied: typing-extensions>=4.0.0 in /usr/local/lib/python3.11/dist-packages (from beautifulsoup4) (4.13.1)\n",
            "Requirement already satisfied: charset-normalizer<4,>=2 in /usr/local/lib/python3.11/dist-packages (from requests) (3.4.1)\n",
            "Requirement already satisfied: idna<4,>=2.5 in /usr/local/lib/python3.11/dist-packages (from requests) (3.10)\n",
            "Requirement already satisfied: urllib3<3,>=1.21.1 in /usr/local/lib/python3.11/dist-packages (from requests) (2.3.0)\n",
            "Requirement already satisfied: certifi>=2017.4.17 in /usr/local/lib/python3.11/dist-packages (from requests) (2025.1.31)\n"
          ]
        }
      ],
      "source": [
        "!pip install beautifulsoup4 requests\n",
        "\n",
        "import requests\n",
        "from bs4 import BeautifulSoup\n",
        "\n",
        "\n",
        "target_url = \"https://csie.asia.edu.tw/zh_tw/TeacherIntroduction/Full_time_faculty\"\n",
        "headers = {\"User-Agent\": \"Magic Browser\"}\n",
        "\n",
        "\n",
        "response = requests.get(target_url, headers=headers)\n",
        "response.encoding = 'utf-8'\n",
        "html = BeautifulSoup(response.text, \"html.parser\")\n",
        "\n",
        "\n",
        "teacher_blocks = html.find_all(\"li\")\n",
        "\n",
        "faculty_list = []\n",
        "current_data = {}\n",
        "\n",
        "\n",
        "for item in teacher_blocks:\n",
        "    content = item.get_text(strip=True)\n",
        "\n",
        "    if content.startswith(\"姓名\"):\n",
        "        if current_data:\n",
        "            faculty_list.append(current_data)\n",
        "        current_data = {}\n",
        "\n",
        "    if not current_data and not content.startswith(\"姓名\"):\n",
        "        continue\n",
        "\n",
        "    for label in [\"姓名\", \"職稱\", \"學歷\", \"研究領域\"]:\n",
        "        if content.startswith(label):\n",
        "            delimiter = \"：\" if \"：\" in content else \":\"\n",
        "            _, value = content.split(delimiter, 1)\n",
        "            current_data[label] = value.strip()\n",
        "            break\n",
        "\n",
        "\n",
        "if current_data:\n",
        "    faculty_list.append(current_data)\n",
        "\n",
        "output_file = \"au_csie_teachers.txt\"\n",
        "with open(output_file, \"w\", encoding=\"utf-8\") as file:\n",
        "    for person in faculty_list:\n",
        "        for field in [\"姓名\", \"職稱\", \"學歷\", \"研究領域\"]:\n",
        "            file.write(f\"{field}：{person.get(field, '')}\\n\")\n",
        "        file.write(\"=\" * 40 + \"\\n\")\n"
      ]
    }
  ]
}